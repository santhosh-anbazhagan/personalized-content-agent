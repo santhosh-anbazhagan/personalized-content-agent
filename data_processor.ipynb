{
 "cells": [
  {
   "cell_type": "markdown",
   "metadata": {},
   "source": [
    "## Data Processor"
   ]
  },
  {
   "cell_type": "code",
   "execution_count": 1,
   "metadata": {},
   "outputs": [],
   "source": [
    "import pandas as pd\n",
    "import os"
   ]
  },
  {
   "cell_type": "code",
   "execution_count": 2,
   "metadata": {},
   "outputs": [],
   "source": [
    "def read_queries_from_file(file_path: str):\n",
    "    try:\n",
    "        with open(file_path, 'r') as file:\n",
    "            queries = [line.strip() for line in file if line.strip()]  # Remove empty lines and strip whitespace\n",
    "        return queries\n",
    "    except FileNotFoundError:\n",
    "        print(f\"Error: The file '{file_path}' does not exist.\")\n",
    "        return []"
   ]
  },
  {
   "cell_type": "code",
   "execution_count": null,
   "metadata": {},
   "outputs": [],
   "source": [
    "file_path = r\"data\\user_raw_history_data.txt\"\n",
    "# Get the current directory\n",
    "current_dir = os.getcwd()\n",
    "print(os.path.join(current_dir,file_path))\n",
    "queries_list = read_queries_from_file(file_path)\n",
    "print(\"quries Size:\",len(queries_list))"
   ]
  },
  {
   "cell_type": "code",
   "execution_count": 22,
   "metadata": {},
   "outputs": [],
   "source": [
    "from pydantic import BaseModel, Field\n",
    "from typing import Optional\n",
    "from datetime import datetime\n",
    "\n",
    "class RawSearchModel(BaseModel):\n",
    "    query: Optional[str] = Field(None, description=\"Search query, e.g., 'best noise cancelling headphones 2024'\")\n",
    "    search_date: Optional[str] = Field(None, description=\"Date of the search in YYYY-MM-DD format\")\n",
    "    device: Optional[str] = Field(None, description=\"Device used for the search, e.g., 'web'\")\n",
    "    userId: Optional[str] = Field(None, description=\"User ID, e.g., 'user123'\")\n"
   ]
  },
  {
   "cell_type": "code",
   "execution_count": 23,
   "metadata": {},
   "outputs": [],
   "source": [
    "# Function to parse the raw query into the Pydantic model\n",
    "def parse_query(query: str) -> Optional[RawSearchModel]:\n",
    "    try:\n",
    "        parts = query.split(\",\")\n",
    "        timestamp = parts[0]\n",
    "        user_id = parts[1]\n",
    "        device = parts[2]\n",
    "        search_query = \",\".join(parts[3:])  # Handles commas in the query text\n",
    "        date = datetime.strptime(timestamp, \"%Y-%m-%d %H:%M:%S\").date().isoformat()\n",
    "        return RawSearchModel(\n",
    "            query=search_query.strip(),\n",
    "            search_date=date,\n",
    "            device=device.strip(),\n",
    "            userId=user_id.strip()\n",
    "        )\n",
    "    except Exception as e:\n",
    "        print(f\"Error parsing query: {query}. Error: {e}\")\n",
    "        return None\n"
   ]
  },
  {
   "cell_type": "code",
   "execution_count": null,
   "metadata": {},
   "outputs": [],
   "source": [
    "# Parse all queries\n",
    "parsed_queries = [parse_query(query) for query in queries_list if query.strip()]\n",
    "\n",
    "# Convert to a DataFrame for Excel storage\n",
    "data = [query.dict() for query in parsed_queries if query]\n",
    "df = pd.DataFrame(data)\n",
    "\n",
    "\n",
    "# Define the directory path where the file will be saved\n",
    "output_dir = os.path.join(os.getcwd(), \"search_output\")\n",
    "# Ensure the directory exists\n",
    "os.makedirs(output_dir, exist_ok=True)\n",
    "\n",
    "# Save to Excel\n",
    "output_path = os.path.join(output_dir, \"search_queries.xlsx\")\n",
    "    \n",
    "df.to_excel(output_path, index=False)\n",
    "\n",
    "print(f\"Data successfully saved to {output_path}\")"
   ]
  },
  {
   "cell_type": "code",
   "execution_count": null,
   "metadata": {},
   "outputs": [],
   "source": []
  }
 ],
 "metadata": {
  "kernelspec": {
   "display_name": "cvenv",
   "language": "python",
   "name": "python3"
  },
  "language_info": {
   "codemirror_mode": {
    "name": "ipython",
    "version": 3
   },
   "file_extension": ".py",
   "mimetype": "text/x-python",
   "name": "python",
   "nbconvert_exporter": "python",
   "pygments_lexer": "ipython3",
   "version": "3.12.4"
  }
 },
 "nbformat": 4,
 "nbformat_minor": 2
}
