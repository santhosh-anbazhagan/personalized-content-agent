{
 "cells": [
  {
   "cell_type": "code",
   "execution_count": 30,
   "metadata": {},
   "outputs": [],
   "source": [
    "from crewai import Agent, Task,LLM,Crew,Process\n",
    "from pydantic import BaseModel, Field\n",
    "from datetime import date, datetime, timedelta\n",
    "from typing import List\n",
    "import re"
   ]
  },
  {
   "cell_type": "code",
   "execution_count": 31,
   "metadata": {},
   "outputs": [],
   "source": [
    "llm = LLM(\n",
    "    model=\"groq/llama3-70b-8192\",\n",
    "    temperature=0.2,\n",
    ")"
   ]
  },
  {
   "cell_type": "code",
   "execution_count": 32,
   "metadata": {},
   "outputs": [],
   "source": [
    "# Define Pydantic model for structured search data\n",
    "class UserSearchData(BaseModel):\n",
    "    query: str = Field(..., description=\"The user's search query.\")\n",
    "    timestamp: datetime = Field(..., description=\"The timestamp of the search (YYYY-MM-DD HH:MM:SS).\")"
   ]
  },
  {
   "cell_type": "code",
   "execution_count": 33,
   "metadata": {},
   "outputs": [],
   "source": [
    "# Define Pydantic model for the research output\n",
    "class PersonalizedContent(BaseModel):\n",
    "    topic_overview: str = Field(..., description=\"Brief introduction to the topic, including its relevance and importance.\")\n",
    "    key_considerations: dict = Field(...,description=\"Factors to consider when making decisions or exploring the topic.\")\n",
    "    recent_trends: dict = Field(..., description=\"Latest updates, trends, or advancements in the given topic.\")\n",
    "    how_to_choose: dict = Field(..., description=\"Step-by-step guide or criteria to make informed decisions related to the topic.\")\n",
    "    additional_resources: dict = Field(..., description=\"Links, references, or suggestions for further exploration.\")\n",
    "    conclusion: str = Field(...,description=\"Summary of the content with actionable takeaways.\")"
   ]
  },
  {
   "cell_type": "code",
   "execution_count": 34,
   "metadata": {},
   "outputs": [],
   "source": [
    "# Define the research agent\n",
    "research_agent = Agent(\n",
    "    role=\"Personalized Content Researcher\",\n",
    "    goal=\"\"\"Research and compile personalized content based on a list of user search queries from the past 10 days, prioritizing recent context and avoiding duplicate queries. Deliver the output in a structured format. the overall out can be between 1000-1500 words\"\"\",\n",
    "    backstory=\"\"\"You are an experienced researcher specializing in personalized content creation. You are adept at extracting relevant information from various sources and synthesizing it into a structured and engaging format. You prioritize recent information and avoid redundancy.\"\"\",\n",
    "    verbose=True,  # Set to False in production\n",
    "    llm=llm  # Your LLM instance (e.g., from Groq)\n",
    ")\n"
   ]
  },
  {
   "cell_type": "code",
   "execution_count": 35,
   "metadata": {},
   "outputs": [],
   "source": [
    "# Define the research task\n",
    "research_task = Task(\n",
    "    description=\"\"\"Research and generate personalized content based on comma-separated user search queries from the past 10 days. Prioritize recent searches and avoid duplicates. Format the output according to the provided template. {query}\"\"\",\n",
    "    expected_output=\"\"\"The output should be a structured dictionary containing personalized content based on the user's search history. The structure should follow the ResearchOutput Pydantic model. each section should have 200 words. Consider the recency of searches, giving more weight to recent queries. Avoid repeating information derived from duplicate queries.\"\"\",\n",
    "    output_pydantic=PersonalizedContent,\n",
    "    agent=research_agent\n",
    ")\n",
    "\n",
    "# Define the research task (Modified)\n",
    "research_task_2 = Task(\n",
    "    description=\"\"\"Research and generate personalized content based on the provided list of user search queries from the past 10 days. Prioritize recent searches and avoid duplicates. Synthesize the information into a single comprehensive output, formatting it according to the PersonalizedContent Pydantic model. Aim for an output between 1000-1500 words.here is the research query {query} \"\"\",\n",
    "    expected_output=\"\"\"The output should be a single structured dictionary conforming to the PersonalizedContent Pydantic model, containing personalized content synthesized from all provided user search queries. Consider the recency of searches, giving more weight to recent queries. Avoid repeating information derived from duplicate queries. The total output should be between 1000-1500 words.\"\"\",\n",
    "    output_pydantic=PersonalizedContent,\n",
    "    agent=research_agent\n",
    ")"
   ]
  },
  {
   "cell_type": "code",
   "execution_count": null,
   "metadata": {},
   "outputs": [],
   "source": [
    "inputs = {\"query\" : \"best noise cancelling headphones 2024, new iphone release date\"}\n",
    "research_crew = Crew(\n",
    "    agents=[research_agent],\n",
    "    tasks=[research_task],\n",
    "    process=Process.sequential\n",
    ")"
   ]
  },
  {
   "cell_type": "code",
   "execution_count": null,
   "metadata": {},
   "outputs": [],
   "source": [
    "result = research_crew.kickoff(inputs=inputs)"
   ]
  },
  {
   "cell_type": "code",
   "execution_count": null,
   "metadata": {},
   "outputs": [],
   "source": [
    "print(result[\"topic_overview\"])\n",
    "print(result[\"key_considerations\"].items())"
   ]
  },
  {
   "cell_type": "code",
   "execution_count": null,
   "metadata": {},
   "outputs": [],
   "source": [
    "search_inputs_string = \"best noise cancelling headphones 2024, new iphone release date, comparison between RTX 4080 and 4090, latest MacBook Pro specs, best mechanical keyboards for gaming, AI powered photo editing software, virtual reality headset reviews, smart home automation systems, wireless charging pad for multiple devices, best deals on 4k TVs, new android phone releases, portable bluetooth speakers with long battery life, gaming laptop under $1500, best cybersecurity software for home use, cloud storage comparison, how to build a gaming pc, best vpn services for streaming, smartwatches with fitness tracking, drone photography tips, 3d printing for beginners\"\n",
    "\n",
    "search_input_list = search_inputs_string.split(\",\")\n",
    "print(search_input_list)"
   ]
  },
  {
   "cell_type": "code",
   "execution_count": null,
   "metadata": {},
   "outputs": [],
   "source": []
  }
 ],
 "metadata": {
  "kernelspec": {
   "display_name": "cvenv",
   "language": "python",
   "name": "python3"
  },
  "language_info": {
   "codemirror_mode": {
    "name": "ipython",
    "version": 3
   },
   "file_extension": ".py",
   "mimetype": "text/x-python",
   "name": "python",
   "nbconvert_exporter": "python",
   "pygments_lexer": "ipython3",
   "version": "3.12.4"
  }
 },
 "nbformat": 4,
 "nbformat_minor": 2
}
